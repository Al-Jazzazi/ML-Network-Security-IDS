{
  "cells": [
    {
      "cell_type": "markdown",
      "metadata": {
        "id": "view-in-github",
        "colab_type": "text"
      },
      "source": [
        "<a href=\"https://colab.research.google.com/github/Al-Jazzazi/ML-Network-Security-IDS/blob/main/IDS_calsifier.ipynb\" target=\"_parent\"><img src=\"https://colab.research.google.com/assets/colab-badge.svg\" alt=\"Open In Colab\"/></a>"
      ]
    },
    {
      "cell_type": "markdown",
      "metadata": {
        "id": "5HFIz5Se2EjK"
      },
      "source": [
        "# Network Intrusion Detection Using Machine Learning\n",
        "\n",
        "## Introduction\n",
        "\n",
        "In this project, I aim to develop an **AI-powered Network Intrusion Detection System (IDS)** that uses **machine learning** techniques to detect network anomalies and intrusions. My approach leverages the **CICIDS2017 dataset**, which contains real-world network traffic data with labeled instances of both normal activities and various types of cyber-attacks. The goal is to build and train a machine learning model that can effectively differentiate between benign network traffic and malicious intrusions based on behavior and anomalies in the network patterns.\n",
        "\n",
        "### Dataset Overview: CICIDS2017\n",
        "\n",
        "The **CICIDS2017** dataset, provided by the Canadian Institute for Cybersecurity, includes a variety of real-world network traffic data with labeled instances of both benign and malicious activities. This dataset includes network flows that represent normal behavior as well as attacks such as **DoS (Denial of Service), DDoS (Distributed Denial of Service), Botnet, and other network-based threats**. The CICIDS2017 dataset is particularly suitable for this project because of its **realistic traffic patterns** and **comprehensive labeling**, making it ideal for training and evaluating machine learning models for intrusion detection.\n",
        "\n",
        "[More information about the dataset](https://www.unb.ca/cic/datasets/ids-2017.html)\n",
        "\n",
        "[Dataset source I will be using](https://www.kaggle.com/datasets/chethuhn/network-intrusion-dataset/data)\n",
        "### Project Objective\n",
        "\n",
        "The primary objective of this notebook is to:\n",
        "1. **Preprocess the CICIDS2017 dataset** to clean and prepare the data for machine learning models.\n",
        "2. **Train various machine learning models** (e.g., Random Forest, SVM, Neural Networks) to detect network intrusions.\n",
        "3. **Evaluate the performance** of these models using standard metrics such as accuracy, precision, recall, and F1-score.\n",
        "4. **Identify the best-performing model** for detecting intrusions and anomalies in network traffic.\n",
        "\n",
        "By the end of this project, we aim to have a machine learning model capable of accurately identifying malicious behavior in network traffic, paving the way for more robust and adaptive network security systems.\n"
      ]
    },
    {
      "cell_type": "code",
      "execution_count": 1,
      "metadata": {
        "id": "QdvVDA-5zcst"
      },
      "outputs": [],
      "source": [
        "import numpy as np\n",
        "import matplotlib.pyplot as plt\n",
        "%matplotlib inline\n",
        "from sklearn import linear_model, preprocessing"
      ]
    },
    {
      "cell_type": "code",
      "execution_count": 2,
      "metadata": {
        "colab": {
          "base_uri": "https://localhost:8080/"
        },
        "id": "tecbUClX3g3S",
        "outputId": "ba175469-9613-4b87-8c53-39bacc4f9e38"
      },
      "outputs": [
        {
          "output_type": "stream",
          "name": "stdout",
          "text": [
            "Index([' Destination Port', ' Flow Duration', ' Total Fwd Packets',\n",
            "       ' Total Backward Packets', 'Total Length of Fwd Packets',\n",
            "       ' Total Length of Bwd Packets', ' Fwd Packet Length Max',\n",
            "       ' Fwd Packet Length Min', ' Fwd Packet Length Mean',\n",
            "       ' Fwd Packet Length Std', 'Bwd Packet Length Max',\n",
            "       ' Bwd Packet Length Min', ' Bwd Packet Length Mean',\n",
            "       ' Bwd Packet Length Std', 'Flow Bytes/s', ' Flow Packets/s',\n",
            "       ' Flow IAT Mean', ' Flow IAT Std', ' Flow IAT Max', ' Flow IAT Min',\n",
            "       'Fwd IAT Total', ' Fwd IAT Mean', ' Fwd IAT Std', ' Fwd IAT Max',\n",
            "       ' Fwd IAT Min', 'Bwd IAT Total', ' Bwd IAT Mean', ' Bwd IAT Std',\n",
            "       ' Bwd IAT Max', ' Bwd IAT Min', 'Fwd PSH Flags', ' Bwd PSH Flags',\n",
            "       ' Fwd URG Flags', ' Bwd URG Flags', ' Fwd Header Length',\n",
            "       ' Bwd Header Length', 'Fwd Packets/s', ' Bwd Packets/s',\n",
            "       ' Min Packet Length', ' Max Packet Length', ' Packet Length Mean',\n",
            "       ' Packet Length Std', ' Packet Length Variance', 'FIN Flag Count',\n",
            "       ' SYN Flag Count', ' RST Flag Count', ' PSH Flag Count',\n",
            "       ' ACK Flag Count', ' URG Flag Count', ' CWE Flag Count',\n",
            "       ' ECE Flag Count', ' Down/Up Ratio', ' Average Packet Size',\n",
            "       ' Avg Fwd Segment Size', ' Avg Bwd Segment Size',\n",
            "       ' Fwd Header Length.1', 'Fwd Avg Bytes/Bulk', ' Fwd Avg Packets/Bulk',\n",
            "       ' Fwd Avg Bulk Rate', ' Bwd Avg Bytes/Bulk', ' Bwd Avg Packets/Bulk',\n",
            "       'Bwd Avg Bulk Rate', 'Subflow Fwd Packets', ' Subflow Fwd Bytes',\n",
            "       ' Subflow Bwd Packets', ' Subflow Bwd Bytes', 'Init_Win_bytes_forward',\n",
            "       ' Init_Win_bytes_backward', ' act_data_pkt_fwd',\n",
            "       ' min_seg_size_forward', 'Active Mean', ' Active Std', ' Active Max',\n",
            "       ' Active Min', 'Idle Mean', ' Idle Std', ' Idle Max', ' Idle Min',\n",
            "       ' Label'],\n",
            "      dtype='object')\n"
          ]
        }
      ],
      "source": [
        "import pandas as pd\n",
        "\n",
        "fn ='Thursday-WorkingHours-Morning-WebAttacks.pcap_ISCX.csv'\n",
        "df = pd.read_csv(fn)\n",
        "df.replace([np.inf, -np.inf], np.nan, inplace=True)\n",
        "\n",
        "df = df.dropna()\n",
        "print(df.columns)\n",
        "\n",
        "\n"
      ]
    },
    {
      "cell_type": "code",
      "source": [
        "import matplotlib.pyplot as plt\n",
        "\n",
        "\n",
        "byets = df[\" Bwd Avg Bytes/Bulk\"]\n",
        "labels = df[\" Label\"]\n",
        "\n",
        "bytes = np.array(byets)\n",
        "label = np.array(labels)\n",
        "\n",
        "# I = label != \"BENIGN\"\n",
        "# bytes = bytes[I]\n",
        "# labels = labels[I]\n",
        "\n",
        "colors = ['g' if label == \"BENIGN\" else 'r' for label in labels]  # 'g' for BENIGN, 'r' otherwise\n",
        "plt.figure(figsize=(8, 5))\n",
        "plt.scatter(range(len(bytes)), bytes, c=colors, s=100, edgecolor='k', label='Data Points')  # Scatter plot\n",
        "plt.plot(bytes, linestyle='--', alpha=0.5, color='gray', label='Trend Line')  # Optional trend line\n",
        "\n",
        "# Add labels and title\n",
        "plt.title(\"Bytes Graph with Conditional Coloring\")\n",
        "plt.xlabel(\"Index\")\n",
        "plt.ylabel(\"Bytes\")\n",
        "plt.grid(True)"
      ],
      "metadata": {
        "colab": {
          "base_uri": "https://localhost:8080/",
          "height": 487
        },
        "id": "YqIeQSMynxEt",
        "outputId": "c60afa14-faab-4323-a48f-ccdcea1ea403"
      },
      "execution_count": 28,
      "outputs": [
        {
          "output_type": "display_data",
          "data": {
            "text/plain": [
              "<Figure size 800x500 with 1 Axes>"
            ],
            "image/png": "[encoded data removed]"
          },
          "metadata": {}
        }
      ]
    },
    {
      "cell_type": "code",
      "source": [
        "print(df.head)\n"
      ],
      "metadata": {
        "colab": {
          "base_uri": "https://localhost:8080/"
        },
        "id": "TLT-NXFrco3r",
        "outputId": "0dffed46-b7b2-4688-aa25-5c76eca23609"
      },
      "execution_count": 3,
      "outputs": [
        {
          "output_type": "stream",
          "name": "stdout",
          "text": [
            "<bound method NDFrame.head of          Destination Port   Flow Duration   Total Fwd Packets  \\\n",
            "0                     389       113095465                  48   \n",
            "1                     389       113473706                  68   \n",
            "2                       0       119945515                 150   \n",
            "3                     443        60261928                   9   \n",
            "4                      53             269                   2   \n",
            "...                   ...             ...                 ...   \n",
            "170361              55641              49                   1   \n",
            "170362              45337             217                   2   \n",
            "170363                 22         1387547                  41   \n",
            "170364                 22             207                   1   \n",
            "170365              60146              50                   1   \n",
            "\n",
            "         Total Backward Packets  Total Length of Fwd Packets  \\\n",
            "0                            24                         9668   \n",
            "1                            40                        11364   \n",
            "2                             0                            0   \n",
            "3                             7                         2330   \n",
            "4                             2                          102   \n",
            "...                         ...                          ...   \n",
            "170361                        3                            6   \n",
            "170362                        1                           31   \n",
            "170363                       46                         2728   \n",
            "170364                        1                            0   \n",
            "170365                        2                            0   \n",
            "\n",
            "         Total Length of Bwd Packets   Fwd Packet Length Max  \\\n",
            "0                              10012                     403   \n",
            "1                              12718                     403   \n",
            "2                                  0                       0   \n",
            "3                               4221                    1093   \n",
            "4                                322                      51   \n",
            "...                              ...                     ...   \n",
            "170361                            18                       6   \n",
            "170362                             6                      31   \n",
            "170363                          6634                     456   \n",
            "170364                             0                       0   \n",
            "170365                             0                       0   \n",
            "\n",
            "         Fwd Packet Length Min   Fwd Packet Length Mean  \\\n",
            "0                            0               201.416667   \n",
            "1                            0               167.117647   \n",
            "2                            0                 0.000000   \n",
            "3                            0               258.888889   \n",
            "4                           51                51.000000   \n",
            "...                        ...                      ...   \n",
            "170361                       6                 6.000000   \n",
            "170362                       0                15.500000   \n",
            "170363                       0                66.536585   \n",
            "170364                       0                 0.000000   \n",
            "170365                       0                 0.000000   \n",
            "\n",
            "         Fwd Packet Length Std  ...   min_seg_size_forward  Active Mean  \\\n",
            "0                   203.548293  ...                     32   203985.500   \n",
            "1                   171.919413  ...                     32   178326.875   \n",
            "2                     0.000000  ...                      0  6909777.333   \n",
            "3                   409.702161  ...                     20        0.000   \n",
            "4                     0.000000  ...                     32        0.000   \n",
            "...                        ...  ...                    ...          ...   \n",
            "170361                0.000000  ...                     20        0.000   \n",
            "170362               21.920310  ...                     32        0.000   \n",
            "170363              110.129945  ...                     32        0.000   \n",
            "170364                0.000000  ...                     32        0.000   \n",
            "170365                0.000000  ...                     32        0.000   \n",
            "\n",
            "          Active Std   Active Max   Active Min   Idle Mean      Idle Std  \\\n",
            "0       5.758373e+05      1629110          379  13800000.0  4.277541e+06   \n",
            "1       5.034269e+05      1424245          325  13800000.0  4.229413e+06   \n",
            "2       1.170000e+07     20400000            6  24400000.0  2.430000e+07   \n",
            "3       0.000000e+00            0            0         0.0  0.000000e+00   \n",
            "4       0.000000e+00            0            0         0.0  0.000000e+00   \n",
            "...              ...          ...          ...         ...           ...   \n",
            "170361  0.000000e+00            0            0         0.0  0.000000e+00   \n",
            "170362  0.000000e+00            0            0         0.0  0.000000e+00   \n",
            "170363  0.000000e+00            0            0         0.0  0.000000e+00   \n",
            "170364  0.000000e+00            0            0         0.0  0.000000e+00   \n",
            "170365  0.000000e+00            0            0         0.0  0.000000e+00   \n",
            "\n",
            "         Idle Max   Idle Min   Label  \n",
            "0        16500000    6737603  BENIGN  \n",
            "1        16500000    6945512  BENIGN  \n",
            "2        60100000    5702188  BENIGN  \n",
            "3               0          0  BENIGN  \n",
            "4               0          0  BENIGN  \n",
            "...           ...        ...     ...  \n",
            "170361          0          0  BENIGN  \n",
            "170362          0          0  BENIGN  \n",
            "170363          0          0  BENIGN  \n",
            "170364          0          0  BENIGN  \n",
            "170365          0          0  BENIGN  \n",
            "\n",
            "[170231 rows x 79 columns]>\n"
          ]
        }
      ]
    },
    {
      "cell_type": "code",
      "execution_count": null,
      "metadata": {
        "colab": {
          "base_uri": "https://localhost:8080/"
        },
        "id": "ZqiMb7p6sM6f",
        "outputId": "18b35c39-4ce3-46f5-df8a-f0874a957b59"
      },
      "outputs": [
        {
          "name": "stdout",
          "output_type": "stream",
          "text": [
            "(170231, 78)\n",
            "{'BENIGN', 'Web Attack � Sql Injection', 'Web Attack � Brute Force', 'Web Attack � XSS'}\n"
          ]
        }
      ],
      "source": [
        "X = np.array(df.drop(columns=' Label'))\n",
        "y = np.array(df[' Label'])\n",
        "print(X.shape)\n",
        "l = set(y)\n",
        "print(l)\n",
        "\n"
      ]
    },
    {
      "cell_type": "code",
      "execution_count": null,
      "metadata": {
        "colab": {
          "base_uri": "https://localhost:8080/"
        },
        "id": "sILKYFlOvzSd",
        "outputId": "173562c6-2a73-48f2-e5d5-22fa5889ff63"
      },
      "outputs": [
        {
          "name": "stdout",
          "output_type": "stream",
          "text": [
            "The number of BENIGN is  168051\n",
            "which is 0.9871938718564773 of the dataset\n"
          ]
        }
      ],
      "source": [
        "I = y == 'BENIGN'\n",
        "print(\"The number of BENIGN is \", np.sum(I))\n",
        "print(\"which is \" + str(np.sum(I)/len(I)) + \" of the dataset\")"
      ]
    },
    {
      "cell_type": "code",
      "execution_count": null,
      "metadata": {
        "id": "F937d_ArcoRA"
      },
      "outputs": [],
      "source": [
        "mean_X = np.mean(X, axis=0)\n",
        "std_X = np.std(X, axis=0)\n",
        "\n",
        "std_X[std_X == 0] = 1\n",
        "\n",
        "X_scale = (X - mean_X) / std_X\n",
        "\n"
      ]
    },
    {
      "cell_type": "code",
      "execution_count": null,
      "metadata": {
        "id": "oNdmnndOzzLo"
      },
      "outputs": [],
      "source": [
        "from sklearn.model_selection import train_test_split\n",
        "\n",
        "Xtr, Xts, ytr, yts = train_test_split(X_scale, I, test_size=0.3, random_state=42)\n"
      ]
    },
    {
      "cell_type": "code",
      "execution_count": null,
      "metadata": {
        "id": "FiuEsLFpBB07"
      },
      "outputs": [],
      "source": [
        "from sklearn import svm\n",
        "svc = svm.SVC()\n"
      ]
    },
    {
      "cell_type": "code",
      "execution_count": null,
      "metadata": {
        "colab": {
          "base_uri": "https://localhost:8080/",
          "height": 80
        },
        "id": "lGj-kkTe3K5k",
        "outputId": "42b57c7d-08de-421f-cbe9-6f549893c7a0"
      },
      "outputs": [
        {
          "data": {
            "text/html": [
              "<style>#sk-container-id-1 {\n",
              "  /* Definition of color scheme common for light and dark mode */\n",
              "  --sklearn-color-text: black;\n",
              "  --sklearn-color-line: gray;\n",
              "  /* Definition of color scheme for unfitted estimators */\n",
              "  --sklearn-color-unfitted-level-0: #fff5e6;\n",
              "  --sklearn-color-unfitted-level-1: #f6e4d2;\n",
              "  --sklearn-color-unfitted-level-2: #ffe0b3;\n",
              "  --sklearn-color-unfitted-level-3: chocolate;\n",
              "  /* Definition of color scheme for fitted estimators */\n",
              "  --sklearn-color-fitted-level-0: #f0f8ff;\n",
              "  --sklearn-color-fitted-level-1: #d4ebff;\n",
              "  --sklearn-color-fitted-level-2: #b3dbfd;\n",
              "  --sklearn-color-fitted-level-3: cornflowerblue;\n",
              "\n",
              "  /* Specific color for light theme */\n",
              "  --sklearn-color-text-on-default-background: var(--sg-text-color, var(--theme-code-foreground, var(--jp-content-font-color1, black)));\n",
              "  --sklearn-color-background: var(--sg-background-color, var(--theme-background, var(--jp-layout-color0, white)));\n",
              "  --sklearn-color-border-box: var(--sg-text-color, var(--theme-code-foreground, var(--jp-content-font-color1, black)));\n",
              "  --sklearn-color-icon: #696969;\n",
              "\n",
              "  @media (prefers-color-scheme: dark) {\n",
              "    /* Redefinition of color scheme for dark theme */\n",
              "    --sklearn-color-text-on-default-background: var(--sg-text-color, var(--theme-code-foreground, var(--jp-content-font-color1, white)));\n",
              "    --sklearn-color-background: var(--sg-background-color, var(--theme-background, var(--jp-layout-color0, #111)));\n",
              "    --sklearn-color-border-box: var(--sg-text-color, var(--theme-code-foreground, var(--jp-content-font-color1, white)));\n",
              "    --sklearn-color-icon: #878787;\n",
              "  }\n",
              "}\n",
              "\n",
              "#sk-container-id-1 {\n",
              "  color: var(--sklearn-color-text);\n",
              "}\n",
              "\n",
              "#sk-container-id-1 pre {\n",
              "  padding: 0;\n",
              "}\n",
              "\n",
              "#sk-container-id-1 input.sk-hidden--visually {\n",
              "  border: 0;\n",
              "  clip: rect(1px 1px 1px 1px);\n",
              "  clip: rect(1px, 1px, 1px, 1px);\n",
              "  height: 1px;\n",
              "  margin: -1px;\n",
              "  overflow: hidden;\n",
              "  padding: 0;\n",
              "  position: absolute;\n",
              "  width: 1px;\n",
              "}\n",
              "\n",
              "#sk-container-id-1 div.sk-dashed-wrapped {\n",
              "  border: 1px dashed var(--sklearn-color-line);\n",
              "  margin: 0 0.4em 0.5em 0.4em;\n",
              "  box-sizing: border-box;\n",
              "  padding-bottom: 0.4em;\n",
              "  background-color: var(--sklearn-color-background);\n",
              "}\n",
              "\n",
              "#sk-container-id-1 div.sk-container {\n",
              "  /* jupyter's `normalize.less` sets `[hidden] { display: none; }`\n",
              "     but bootstrap.min.css set `[hidden] { display: none !important; }`\n",
              "     so we also need the `!important` here to be able to override the\n",
              "     default hidden behavior on the sphinx rendered scikit-learn.org.\n",
              "     See: https://github.com/scikit-learn/scikit-learn/issues/21755 */\n",
              "  display: inline-block !important;\n",
              "  position: relative;\n",
              "}\n",
              "\n",
              "#sk-container-id-1 div.sk-text-repr-fallback {\n",
              "  display: none;\n",
              "}\n",
              "\n",
              "div.sk-parallel-item,\n",
              "div.sk-serial,\n",
              "div.sk-item {\n",
              "  /* draw centered vertical line to link estimators */\n",
              "  background-image: linear-gradient(var(--sklearn-color-text-on-default-background), var(--sklearn-color-text-on-default-background));\n",
              "  background-size: 2px 100%;\n",
              "  background-repeat: no-repeat;\n",
              "  background-position: center center;\n",
              "}\n",
              "\n",
              "/* Parallel-specific style estimator block */\n",
              "\n",
              "#sk-container-id-1 div.sk-parallel-item::after {\n",
              "  content: \"\";\n",
              "  width: 100%;\n",
              "  border-bottom: 2px solid var(--sklearn-color-text-on-default-background);\n",
              "  flex-grow: 1;\n",
              "}\n",
              "\n",
              "#sk-container-id-1 div.sk-parallel {\n",
              "  display: flex;\n",
              "  align-items: stretch;\n",
              "  justify-content: center;\n",
              "  background-color: var(--sklearn-color-background);\n",
              "  position: relative;\n",
              "}\n",
              "\n",
              "#sk-container-id-1 div.sk-parallel-item {\n",
              "  display: flex;\n",
              "  flex-direction: column;\n",
              "}\n",
              "\n",
              "#sk-container-id-1 div.sk-parallel-item:first-child::after {\n",
              "  align-self: flex-end;\n",
              "  width: 50%;\n",
              "}\n",
              "\n",
              "#sk-container-id-1 div.sk-parallel-item:last-child::after {\n",
              "  align-self: flex-start;\n",
              "  width: 50%;\n",
              "}\n",
              "\n",
              "#sk-container-id-1 div.sk-parallel-item:only-child::after {\n",
              "  width: 0;\n",
              "}\n",
              "\n",
              "/* Serial-specific style estimator block */\n",
              "\n",
              "#sk-container-id-1 div.sk-serial {\n",
              "  display: flex;\n",
              "  flex-direction: column;\n",
              "  align-items: center;\n",
              "  background-color: var(--sklearn-color-background);\n",
              "  padding-right: 1em;\n",
              "  padding-left: 1em;\n",
              "}\n",
              "\n",
              "\n",
              "/* Toggleable style: style used for estimator/Pipeline/ColumnTransformer box that is\n",
              "clickable and can be expanded/collapsed.\n",
              "- Pipeline and ColumnTransformer use this feature and define the default style\n",
              "- Estimators will overwrite some part of the style using the `sk-estimator` class\n",
              "*/\n",
              "\n",
              "/* Pipeline and ColumnTransformer style (default) */\n",
              "\n",
              "#sk-container-id-1 div.sk-toggleable {\n",
              "  /* Default theme specific background. It is overwritten whether we have a\n",
              "  specific estimator or a Pipeline/ColumnTransformer */\n",
              "  background-color: var(--sklearn-color-background);\n",
              "}\n",
              "\n",
              "/* Toggleable label */\n",
              "#sk-container-id-1 label.sk-toggleable__label {\n",
              "  cursor: pointer;\n",
              "  display: block;\n",
              "  width: 100%;\n",
              "  margin-bottom: 0;\n",
              "  padding: 0.5em;\n",
              "  box-sizing: border-box;\n",
              "  text-align: center;\n",
              "}\n",
              "\n",
              "#sk-container-id-1 label.sk-toggleable__label-arrow:before {\n",
              "  /* Arrow on the left of the label */\n",
              "  content: \"▸\";\n",
              "  float: left;\n",
              "  margin-right: 0.25em;\n",
              "  color: var(--sklearn-color-icon);\n",
              "}\n",
              "\n",
              "#sk-container-id-1 label.sk-toggleable__label-arrow:hover:before {\n",
              "  color: var(--sklearn-color-text);\n",
              "}\n",
              "\n",
              "/* Toggleable content - dropdown */\n",
              "\n",
              "#sk-container-id-1 div.sk-toggleable__content {\n",
              "  max-height: 0;\n",
              "  max-width: 0;\n",
              "  overflow: hidden;\n",
              "  text-align: left;\n",
              "  /* unfitted */\n",
              "  background-color: var(--sklearn-color-unfitted-level-0);\n",
              "}\n",
              "\n",
              "#sk-container-id-1 div.sk-toggleable__content.fitted {\n",
              "  /* fitted */\n",
              "  background-color: var(--sklearn-color-fitted-level-0);\n",
              "}\n",
              "\n",
              "#sk-container-id-1 div.sk-toggleable__content pre {\n",
              "  margin: 0.2em;\n",
              "  border-radius: 0.25em;\n",
              "  color: var(--sklearn-color-text);\n",
              "  /* unfitted */\n",
              "  background-color: var(--sklearn-color-unfitted-level-0);\n",
              "}\n",
              "\n",
              "#sk-container-id-1 div.sk-toggleable__content.fitted pre {\n",
              "  /* unfitted */\n",
              "  background-color: var(--sklearn-color-fitted-level-0);\n",
              "}\n",
              "\n",
              "#sk-container-id-1 input.sk-toggleable__control:checked~div.sk-toggleable__content {\n",
              "  /* Expand drop-down */\n",
              "  max-height: 200px;\n",
              "  max-width: 100%;\n",
              "  overflow: auto;\n",
              "}\n",
              "\n",
              "#sk-container-id-1 input.sk-toggleable__control:checked~label.sk-toggleable__label-arrow:before {\n",
              "  content: \"▾\";\n",
              "}\n",
              "\n",
              "/* Pipeline/ColumnTransformer-specific style */\n",
              "\n",
              "#sk-container-id-1 div.sk-label input.sk-toggleable__control:checked~label.sk-toggleable__label {\n",
              "  color: var(--sklearn-color-text);\n",
              "  background-color: var(--sklearn-color-unfitted-level-2);\n",
              "}\n",
              "\n",
              "#sk-container-id-1 div.sk-label.fitted input.sk-toggleable__control:checked~label.sk-toggleable__label {\n",
              "  background-color: var(--sklearn-color-fitted-level-2);\n",
              "}\n",
              "\n",
              "/* Estimator-specific style */\n",
              "\n",
              "/* Colorize estimator box */\n",
              "#sk-container-id-1 div.sk-estimator input.sk-toggleable__control:checked~label.sk-toggleable__label {\n",
              "  /* unfitted */\n",
              "  background-color: var(--sklearn-color-unfitted-level-2);\n",
              "}\n",
              "\n",
              "#sk-container-id-1 div.sk-estimator.fitted input.sk-toggleable__control:checked~label.sk-toggleable__label {\n",
              "  /* fitted */\n",
              "  background-color: var(--sklearn-color-fitted-level-2);\n",
              "}\n",
              "\n",
              "#sk-container-id-1 div.sk-label label.sk-toggleable__label,\n",
              "#sk-container-id-1 div.sk-label label {\n",
              "  /* The background is the default theme color */\n",
              "  color: var(--sklearn-color-text-on-default-background);\n",
              "}\n",
              "\n",
              "/* On hover, darken the color of the background */\n",
              "#sk-container-id-1 div.sk-label:hover label.sk-toggleable__label {\n",
              "  color: var(--sklearn-color-text);\n",
              "  background-color: var(--sklearn-color-unfitted-level-2);\n",
              "}\n",
              "\n",
              "/* Label box, darken color on hover, fitted */\n",
              "#sk-container-id-1 div.sk-label.fitted:hover label.sk-toggleable__label.fitted {\n",
              "  color: var(--sklearn-color-text);\n",
              "  background-color: var(--sklearn-color-fitted-level-2);\n",
              "}\n",
              "\n",
              "/* Estimator label */\n",
              "\n",
              "#sk-container-id-1 div.sk-label label {\n",
              "  font-family: monospace;\n",
              "  font-weight: bold;\n",
              "  display: inline-block;\n",
              "  line-height: 1.2em;\n",
              "}\n",
              "\n",
              "#sk-container-id-1 div.sk-label-container {\n",
              "  text-align: center;\n",
              "}\n",
              "\n",
              "/* Estimator-specific */\n",
              "#sk-container-id-1 div.sk-estimator {\n",
              "  font-family: monospace;\n",
              "  border: 1px dotted var(--sklearn-color-border-box);\n",
              "  border-radius: 0.25em;\n",
              "  box-sizing: border-box;\n",
              "  margin-bottom: 0.5em;\n",
              "  /* unfitted */\n",
              "  background-color: var(--sklearn-color-unfitted-level-0);\n",
              "}\n",
              "\n",
              "#sk-container-id-1 div.sk-estimator.fitted {\n",
              "  /* fitted */\n",
              "  background-color: var(--sklearn-color-fitted-level-0);\n",
              "}\n",
              "\n",
              "/* on hover */\n",
              "#sk-container-id-1 div.sk-estimator:hover {\n",
              "  /* unfitted */\n",
              "  background-color: var(--sklearn-color-unfitted-level-2);\n",
              "}\n",
              "\n",
              "#sk-container-id-1 div.sk-estimator.fitted:hover {\n",
              "  /* fitted */\n",
              "  background-color: var(--sklearn-color-fitted-level-2);\n",
              "}\n",
              "\n",
              "/* Specification for estimator info (e.g. \"i\" and \"?\") */\n",
              "\n",
              "/* Common style for \"i\" and \"?\" */\n",
              "\n",
              ".sk-estimator-doc-link,\n",
              "a:link.sk-estimator-doc-link,\n",
              "a:visited.sk-estimator-doc-link {\n",
              "  float: right;\n",
              "  font-size: smaller;\n",
              "  line-height: 1em;\n",
              "  font-family: monospace;\n",
              "  background-color: var(--sklearn-color-background);\n",
              "  border-radius: 1em;\n",
              "  height: 1em;\n",
              "  width: 1em;\n",
              "  text-decoration: none !important;\n",
              "  margin-left: 1ex;\n",
              "  /* unfitted */\n",
              "  border: var(--sklearn-color-unfitted-level-1) 1pt solid;\n",
              "  color: var(--sklearn-color-unfitted-level-1);\n",
              "}\n",
              "\n",
              ".sk-estimator-doc-link.fitted,\n",
              "a:link.sk-estimator-doc-link.fitted,\n",
              "a:visited.sk-estimator-doc-link.fitted {\n",
              "  /* fitted */\n",
              "  border: var(--sklearn-color-fitted-level-1) 1pt solid;\n",
              "  color: var(--sklearn-color-fitted-level-1);\n",
              "}\n",
              "\n",
              "/* On hover */\n",
              "div.sk-estimator:hover .sk-estimator-doc-link:hover,\n",
              ".sk-estimator-doc-link:hover,\n",
              "div.sk-label-container:hover .sk-estimator-doc-link:hover,\n",
              ".sk-estimator-doc-link:hover {\n",
              "  /* unfitted */\n",
              "  background-color: var(--sklearn-color-unfitted-level-3);\n",
              "  color: var(--sklearn-color-background);\n",
              "  text-decoration: none;\n",
              "}\n",
              "\n",
              "div.sk-estimator.fitted:hover .sk-estimator-doc-link.fitted:hover,\n",
              ".sk-estimator-doc-link.fitted:hover,\n",
              "div.sk-label-container:hover .sk-estimator-doc-link.fitted:hover,\n",
              ".sk-estimator-doc-link.fitted:hover {\n",
              "  /* fitted */\n",
              "  background-color: var(--sklearn-color-fitted-level-3);\n",
              "  color: var(--sklearn-color-background);\n",
              "  text-decoration: none;\n",
              "}\n",
              "\n",
              "/* Span, style for the box shown on hovering the info icon */\n",
              ".sk-estimator-doc-link span {\n",
              "  display: none;\n",
              "  z-index: 9999;\n",
              "  position: relative;\n",
              "  font-weight: normal;\n",
              "  right: .2ex;\n",
              "  padding: .5ex;\n",
              "  margin: .5ex;\n",
              "  width: min-content;\n",
              "  min-width: 20ex;\n",
              "  max-width: 50ex;\n",
              "  color: var(--sklearn-color-text);\n",
              "  box-shadow: 2pt 2pt 4pt #999;\n",
              "  /* unfitted */\n",
              "  background: var(--sklearn-color-unfitted-level-0);\n",
              "  border: .5pt solid var(--sklearn-color-unfitted-level-3);\n",
              "}\n",
              "\n",
              ".sk-estimator-doc-link.fitted span {\n",
              "  /* fitted */\n",
              "  background: var(--sklearn-color-fitted-level-0);\n",
              "  border: var(--sklearn-color-fitted-level-3);\n",
              "}\n",
              "\n",
              ".sk-estimator-doc-link:hover span {\n",
              "  display: block;\n",
              "}\n",
              "\n",
              "/* \"?\"-specific style due to the `<a>` HTML tag */\n",
              "\n",
              "#sk-container-id-1 a.estimator_doc_link {\n",
              "  float: right;\n",
              "  font-size: 1rem;\n",
              "  line-height: 1em;\n",
              "  font-family: monospace;\n",
              "  background-color: var(--sklearn-color-background);\n",
              "  border-radius: 1rem;\n",
              "  height: 1rem;\n",
              "  width: 1rem;\n",
              "  text-decoration: none;\n",
              "  /* unfitted */\n",
              "  color: var(--sklearn-color-unfitted-level-1);\n",
              "  border: var(--sklearn-color-unfitted-level-1) 1pt solid;\n",
              "}\n",
              "\n",
              "#sk-container-id-1 a.estimator_doc_link.fitted {\n",
              "  /* fitted */\n",
              "  border: var(--sklearn-color-fitted-level-1) 1pt solid;\n",
              "  color: var(--sklearn-color-fitted-level-1);\n",
              "}\n",
              "\n",
              "/* On hover */\n",
              "#sk-container-id-1 a.estimator_doc_link:hover {\n",
              "  /* unfitted */\n",
              "  background-color: var(--sklearn-color-unfitted-level-3);\n",
              "  color: var(--sklearn-color-background);\n",
              "  text-decoration: none;\n",
              "}\n",
              "\n",
              "#sk-container-id-1 a.estimator_doc_link.fitted:hover {\n",
              "  /* fitted */\n",
              "  background-color: var(--sklearn-color-fitted-level-3);\n",
              "}\n",
              "</style><div id=\"sk-container-id-1\" class=\"sk-top-container\"><div class=\"sk-text-repr-fallback\"><pre>SVC()</pre><b>In a Jupyter environment, please rerun this cell to show the HTML representation or trust the notebook. <br />On GitHub, the HTML representation is unable to render, please try loading this page with nbviewer.org.</b></div><div class=\"sk-container\" hidden><div class=\"sk-item\"><div class=\"sk-estimator fitted sk-toggleable\"><input class=\"sk-toggleable__control sk-hidden--visually\" id=\"sk-estimator-id-1\" type=\"checkbox\" checked><label for=\"sk-estimator-id-1\" class=\"sk-toggleable__label fitted sk-toggleable__label-arrow fitted\">&nbsp;&nbsp;SVC<a class=\"sk-estimator-doc-link fitted\" rel=\"noreferrer\" target=\"_blank\" href=\"https://scikit-learn.org/1.5/modules/generated/sklearn.svm.SVC.html\">?<span>Documentation for SVC</span></a><span class=\"sk-estimator-doc-link fitted\">i<span>Fitted</span></span></label><div class=\"sk-toggleable__content fitted\"><pre>SVC()</pre></div> </div></div></div></div>"
            ],
            "text/plain": [
              "SVC()"
            ]
          },
          "execution_count": 9,
          "metadata": {},
          "output_type": "execute_result"
        }
      ],
      "source": [
        "svc.fit(Xtr,ytr)"
      ]
    },
    {
      "cell_type": "code",
      "execution_count": null,
      "metadata": {
        "colab": {
          "base_uri": "https://localhost:8080/"
        },
        "id": "1gP2i3rXBeQg",
        "outputId": "44dc5ef2-75d6-44cc-a70a-e236c10b24d3"
      },
      "outputs": [
        {
          "name": "stdout",
          "output_type": "stream",
          "text": [
            "0.9944390052868611\n"
          ]
        }
      ],
      "source": [
        "y_hat = svc.predict(Xts)\n",
        "recall = np.mean(y_hat == yts)\n",
        "print(recall)"
      ]
    },
    {
      "cell_type": "code",
      "execution_count": null,
      "metadata": {
        "colab": {
          "base_uri": "https://localhost:8080/"
        },
        "id": "mGpY1Aaef5pE",
        "outputId": "5ef79bad-ea01-4cad-e630-198bd7098ff5"
      },
      "outputs": [
        {
          "name": "stdout",
          "output_type": "stream",
          "text": [
            "false positives percent amongst all positives (ie predicting BENIGN when actual is attack)  0.0018684529607028563\n",
            "false negatives percent amongst all negatives (ie predicting Attack when actual is benign)  0.24967148488830487\n"
          ]
        }
      ],
      "source": [
        "false_positives = np.sum((y_hat == True) & (yts == False))/np.sum(y_hat == True)\n",
        "false_negatives = np.sum((y_hat == False) & (yts == True))/np.sum(y_hat == False)\n",
        "print(\"false positives percent amongst all positives (ie predicting BENIGN when actual is attack) \", false_positives)\n",
        "print(\"false negatives percent amongst all negatives (ie predicting Attack when actual is benign) \", false_negatives)\n"
      ]
    },
    {
      "cell_type": "code",
      "execution_count": null,
      "metadata": {
        "colab": {
          "base_uri": "https://localhost:8080/"
        },
        "id": "c3DQKEztB21M",
        "outputId": "4bf0aff1-8821-4b59-bd65-ece4f606a232"
      },
      "outputs": [
        {
          "name": "stdout",
          "output_type": "stream",
          "text": [
            "Precision: 0.9981\n",
            "Accuracy: 0.9944\n",
            "F1-Score: 0.9972\n"
          ]
        }
      ],
      "source": [
        "from sklearn.metrics import precision_score, accuracy_score, f1_score\n",
        "\n",
        "# Calculate precision, accuracy, and F1-score\n",
        "precision = precision_score(yts, y_hat)\n",
        "accuracy = accuracy_score(yts, y_hat)\n",
        "f1 = f1_score(yts, y_hat)\n",
        "\n",
        "print(f\"Precision: {precision:.4f}\")\n",
        "print(f\"Accuracy: {accuracy:.4f}\")\n",
        "print(f\"F1-Score: {f1:.4f}\")"
      ]
    },
    {
      "cell_type": "code",
      "execution_count": null,
      "metadata": {
        "colab": {
          "background_save": true
        },
        "id": "Xxw7-VYM2_jl",
        "outputId": "f8355961-abfc-4a55-d553-d406580c595c"
      },
      "outputs": [
        {
          "name": "stdout",
          "output_type": "stream",
          "text": [
            "Best parameters found: {'C': 100, 'gamma': 1, 'kernel': 'rbf'}\n",
            "Best cross-validation score: 0.9992782858800116\n"
          ]
        }
      ],
      "source": [
        "from sklearn.model_selection import GridSearchCV\n",
        "\n",
        "# Define the parameter grid\n",
        "param_grid = {\n",
        "    'C': [0.1, 1, 10, 100],  # Explore values of C from 0.1 to 100\n",
        "    'gamma': [0.001, 0.01, 0.1, 1, 'scale', 'auto'],  # Explore different gamma values\n",
        "    'kernel': ['rbf']  # Use RBF kernel\n",
        "}\n",
        "\n",
        "# Instantiate an SVM classifier\n",
        "svc = svm.SVC()\n",
        "\n",
        "# Set up GridSearchCV\n",
        "grid_search = GridSearchCV(svc, param_grid, cv=5)  # 5-fold cross-validation\n",
        "\n",
        "# Fit grid search to the data (X, y)\n",
        "grid_search.fit(Xtr, ytr)\n",
        "\n",
        "# Get the best parameters and best score\n",
        "print(\"Best parameters found:\", grid_search.best_params_)\n",
        "print(\"Best cross-validation score:\", grid_search.best_score_)\n"
      ]
    }
  ],
  "metadata": {
    "colab": {
      "provenance": [],
      "mount_file_id": "1FM8btTDKBGMS3489bj--6jgjoD6m5GrR",
      "authorship_tag": "ABX9TyNN+9Mel2tXtQ+fHRx/+fkM",
      "include_colab_link": true
    },
    "kernelspec": {
      "display_name": "Python 3",
      "name": "python3"
    },
    "language_info": {
      "name": "python"
    }
  },
  "nbformat": 4,
  "nbformat_minor": 0
}